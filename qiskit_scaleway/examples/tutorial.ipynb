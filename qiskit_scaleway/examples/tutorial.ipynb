{
 "cells": [
  {
   "cell_type": "markdown",
   "metadata": {},
   "source": [
    "# Scaleway Qiskit Provider Example\n",
    "\n",
    "This notebook demonstrates how to use a Scaleway provider with Qiskit\n",
    "\n",
    "\n",
    "### Setup\n",
    "\n",
    "First, you need to have a Scaleway account and obtain your project ID and [secret key](https://www.scaleway.com/en/docs/identity-and-access-management/iam/how-to/create-api-keys/).\n",
    "\n",
    "\n",
    "Next, install the qiskit-scaleway provider: \n",
    "\n",
    "```\n",
    "pip install qiskit-scaleway\n",
    "```\n",
    "\n",
    "\n",
    "### Usage\n",
    "\n",
    "First, you need to import packages"
   ]
  },
  {
   "cell_type": "code",
   "execution_count": 6,
   "metadata": {},
   "outputs": [],
   "source": [
    "from qiskit import QuantumCircuit\n",
    "from qiskit_scaleway import ScalewayProvider\n"
   ]
  },
  {
   "cell_type": "markdown",
   "metadata": {},
   "source": [
    "Create your Scaleway provider"
   ]
  },
  {
   "cell_type": "code",
   "execution_count": 7,
   "metadata": {},
   "outputs": [],
   "source": [
    "provider = ScalewayProvider(\n",
    "    project_id=\"<your-scaleway-project-id>\",\n",
    "    secret_key=\"<your-scaleway-secret-key>\",\n",
    ")\n"
   ]
  },
  {
   "cell_type": "code",
   "execution_count": 8,
   "metadata": {},
   "outputs": [
    {
     "name": "stdout",
     "output_type": "stream",
     "text": [
      "[<AerBackend(name=aer_simulation_2l40s,num_qubits=34,platform_id=dc4f3395-180c-4809-90b3-72c73c0c094a)>, <AerBackend(name=aer_simulation_2l4,num_qubits=33,platform_id=69aa69ca-b5f4-4cc0-8966-41faea050c69)>, <AerBackend(name=aer_simulation_4l40s,num_qubits=35,platform_id=df56c959-5f6e-4a2d-b0b4-5bcf72416fbc)>, <AerBackend(name=aer_simulation_8l40s,num_qubits=36,platform_id=32fed9ac-301a-45e2-9745-08d02ae5a15e)>, <AerBackend(name=aer_simulation_pop_c16m128,num_qubits=32,platform_id=6f23d4ee-e9b1-47f9-8e5f-8b9c674575f1)>, <QsimBackend(name=qsim_simulation_pop_c64m512,num_qubits=35,platform_id=8afaef46-41d8-4e20-b36b-4098b55489a9)>, <QsimBackend(name=qsim_simulation_pop_c8m64,num_qubits=32,platform_id=0d01da74-6687-4542-908a-310c1d382210)>, <AerBackend(name=aer_simulation_pop_c32m256,num_qubits=33,platform_id=88c88004-b410-4653-b1e2-aea33117fe87)>, <AerBackend(name=aer_simulation_pop_c64m512,num_qubits=34,platform_id=dd11f944-8a42-4183-a734-fbccd8858454)>, <QsimBackend(name=qsim_simulation_pop_c16m128,num_qubits=33,platform_id=61f4f465-af1b-464e-a16d-43bc033cd673)>, <QsimBackend(name=qsim_simulation_pop_c32m256,num_qubits=34,platform_id=552575b6-b24c-42fb-b469-d735ec00b456)>, <QsimBackend(name=qsim_simulation_l40s,num_qubits=32,platform_id=6afb4e9e-cf09-42b7-a4d1-39dbb4c76a10)>]\n",
      "[<AerBackend(name=aer_simulation_4l40s,num_qubits=35,platform_id=df56c959-5f6e-4a2d-b0b4-5bcf72416fbc)>, <AerBackend(name=aer_simulation_8l40s,num_qubits=36,platform_id=32fed9ac-301a-45e2-9745-08d02ae5a15e)>, <QsimBackend(name=qsim_simulation_pop_c64m512,num_qubits=35,platform_id=8afaef46-41d8-4e20-b36b-4098b55489a9)>]\n"
     ]
    },
    {
     "name": "stderr",
     "output_type": "stream",
     "text": [
      "/var/folders/wr/t90h6ncd4g7bd0x_l9vvzzg40000gn/T/ipykernel_7234/689040384.py:2: UserWarning: Backend sim:sampling:h100 was not created successfully\n",
      "  print(provider.backends(operational=True))\n",
      "/var/folders/wr/t90h6ncd4g7bd0x_l9vvzzg40000gn/T/ipykernel_7234/689040384.py:2: UserWarning: Backend sim:sampling:p100 was not created successfully\n",
      "  print(provider.backends(operational=True))\n",
      "/var/folders/wr/t90h6ncd4g7bd0x_l9vvzzg40000gn/T/ipykernel_7234/689040384.py:5: UserWarning: Backend sim:sampling:h100 was not created successfully\n",
      "  print(provider.backends(min_num_qubits=35))\n",
      "/var/folders/wr/t90h6ncd4g7bd0x_l9vvzzg40000gn/T/ipykernel_7234/689040384.py:5: UserWarning: Backend sim:sampling:p100 was not created successfully\n",
      "  print(provider.backends(min_num_qubits=35))\n"
     ]
    }
   ],
   "source": [
    "# List of the available Scaleway devices\n",
    "print(provider.backends(operational=True))\n",
    "\n",
    "# List all backends with a minimum number of qbits\n",
    "print(provider.backends(min_num_qubits=35))\n",
    "\n",
    "# Retrieve a backend by providing search criteria. The search must have a single match\n",
    "backend = provider.get_backend(\"aer_simulation_4l40s\")\n"
   ]
  },
  {
   "cell_type": "markdown",
   "metadata": {},
   "source": [
    "### Bell-state example\n",
    "Let's start with quantum circuit to make a (Bell state)[https://en.wikipedia.org/wiki/Bell_state]. A Bell state is the simplest example of entanglement. The `H` gate places `q_0` in a superposition, then the `X` gate entangles the two qubits."
   ]
  },
  {
   "cell_type": "code",
   "execution_count": 9,
   "metadata": {},
   "outputs": [
    {
     "data": {
      "text/html": [
       "<pre style=\"word-wrap: normal;white-space: pre;background: #fff0;line-height: 1.1;font-family: &quot;Courier New&quot;,Courier,monospace\">        ┌───┐      ░ ┌─┐   \n",
       "   q_0: ┤ H ├──■───░─┤M├───\n",
       "        └───┘┌─┴─┐ ░ └╥┘┌─┐\n",
       "   q_1: ─────┤ X ├─░──╫─┤M├\n",
       "             └───┘ ░  ║ └╥┘\n",
       "   c: 2/══════════════╬══╬═\n",
       "                      ║  ║ \n",
       "meas: 2/══════════════╩══╩═\n",
       "                      0  1 </pre>"
      ],
      "text/plain": [
       "        ┌───┐      ░ ┌─┐   \n",
       "   q_0: ┤ H ├──■───░─┤M├───\n",
       "        └───┘┌─┴─┐ ░ └╥┘┌─┐\n",
       "   q_1: ─────┤ X ├─░──╫─┤M├\n",
       "             └───┘ ░  ║ └╥┘\n",
       "   c: 2/══════════════╬══╬═\n",
       "                      ║  ║ \n",
       "meas: 2/══════════════╩══╩═\n",
       "                      0  1 "
      ]
     },
     "execution_count": 9,
     "metadata": {},
     "output_type": "execute_result"
    }
   ],
   "source": [
    "# quantum circuit to make a Bell state\n",
    "circuit = QuantumCircuit(2, 2, name='Bell state')\n",
    "circuit.h(0)\n",
    "circuit.cx(0, 1)\n",
    "circuit.measure_all()\n",
    "\n",
    "circuit.draw()\n"
   ]
  },
  {
   "cell_type": "markdown",
   "metadata": {},
   "source": [
    "### Run on an Scaleway Backend"
   ]
  },
  {
   "cell_type": "code",
   "execution_count": 10,
   "metadata": {},
   "outputs": [
    {
     "name": "stdout",
     "output_type": "stream",
     "text": [
      "{'11 00': 497, '00 00': 503}\n"
     ]
    }
   ],
   "source": [
    "# The number of repetitions for each circuit, for sampling.\n",
    "shots = 1000\n",
    "\n",
    "# Create job to a new QPU's session (or on an existing one)\n",
    "job = backend.run(circuit, shots=shots)\n",
    "\n",
    "\n",
    "# Send your job\n",
    "result = job.result()\n",
    "\n",
    "counts = result.get_counts()\n",
    "print(counts)\n"
   ]
  }
 ],
 "metadata": {
  "kernelspec": {
   "display_name": "venv",
   "language": "python",
   "name": "python3"
  },
  "language_info": {
   "codemirror_mode": {
    "name": "ipython",
    "version": 3
   },
   "file_extension": ".py",
   "mimetype": "text/x-python",
   "name": "python",
   "nbconvert_exporter": "python",
   "pygments_lexer": "ipython3",
   "version": "3.11.6"
  }
 },
 "nbformat": 4,
 "nbformat_minor": 2
}
