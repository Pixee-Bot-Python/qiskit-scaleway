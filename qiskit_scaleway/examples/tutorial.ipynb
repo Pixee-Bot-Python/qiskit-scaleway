{
 "cells": [
  {
   "cell_type": "markdown",
   "metadata": {},
   "source": [
    "# Scaleway Qiskit Provider Example\n",
    "\n",
    "This notebook demonstrates how to use a Scaleway provider with Qiskit\n",
    "\n",
    "\n",
    "### Setup\n",
    "\n",
    "First, you need to have a Scaleway account and obtain your project ID and [secret key](https://www.scaleway.com/en/docs/identity-and-access-management/iam/how-to/create-api-keys/).\n",
    "\n",
    "\n",
    "Next, install the qiskit-scaleway provider: \n",
    "\n",
    "```\n",
    "pip install qiskit-scaleway\n",
    "```\n",
    "\n",
    "\n",
    "### Usage\n",
    "\n",
    "First, you need to import packages"
   ]
  },
  {
   "cell_type": "code",
   "execution_count": 12,
   "metadata": {},
   "outputs": [],
   "source": [
    "from qiskit import QuantumCircuit\n",
    "from qiskit_scaleway import ScalewayProvider\n"
   ]
  },
  {
   "cell_type": "markdown",
   "metadata": {},
   "source": [
    "Create your Scaleway provider"
   ]
  },
  {
   "cell_type": "code",
   "execution_count": 13,
   "metadata": {},
   "outputs": [],
   "source": [
    "provider = ScalewayProvider(\n",
    "    project_id=\"<your-scaleway-project-id>\",\n",
    "    secret_key=\"<your-scaleway-secret-key>\",\n",
    ")\n"
   ]
  },
  {
   "cell_type": "code",
   "execution_count": 14,
   "metadata": {},
   "outputs": [
    {
     "name": "stdout",
     "output_type": "stream",
     "text": [
      "[<AerBackend(name=aer_simulation_2l40s,num_qubits=34,platform_id=dc4f3395-180c-4809-90b3-72c73c0c094a)>, <AerBackend(name=aer_simulation_2l4,num_qubits=33,platform_id=69aa69ca-b5f4-4cc0-8966-41faea050c69)>, <AerBackend(name=aer_simulation_4l40s,num_qubits=35,platform_id=df56c959-5f6e-4a2d-b0b4-5bcf72416fbc)>, <AerBackend(name=aer_simulation_pop_c16m128,num_qubits=32,platform_id=6f23d4ee-e9b1-47f9-8e5f-8b9c674575f1)>, <QsimBackend(name=qsim_simulation_pop_c64m512,num_qubits=35,platform_id=8afaef46-41d8-4e20-b36b-4098b55489a9)>, <QsimBackend(name=qsim_simulation_pop_c8m64,num_qubits=32,platform_id=0d01da74-6687-4542-908a-310c1d382210)>, <AerBackend(name=aer_simulation_pop_c32m256,num_qubits=33,platform_id=88c88004-b410-4653-b1e2-aea33117fe87)>, <AerBackend(name=aer_simulation_pop_c64m512,num_qubits=34,platform_id=dd11f944-8a42-4183-a734-fbccd8858454)>, <QsimBackend(name=qsim_simulation_pop_c16m128,num_qubits=33,platform_id=61f4f465-af1b-464e-a16d-43bc033cd673)>, <QsimBackend(name=qsim_simulation_pop_c32m256,num_qubits=34,platform_id=552575b6-b24c-42fb-b469-d735ec00b456)>, <QsimBackend(name=qsim_simulation_l40s,num_qubits=32,platform_id=6afb4e9e-cf09-42b7-a4d1-39dbb4c76a10)>]\n",
      "[<AerBackend(name=aer_simulation_4l40s,num_qubits=35,platform_id=df56c959-5f6e-4a2d-b0b4-5bcf72416fbc)>, <AerBackend(name=aer_simulation_8l40s,num_qubits=36,platform_id=32fed9ac-301a-45e2-9745-08d02ae5a15e)>, <QsimBackend(name=qsim_simulation_pop_c64m512,num_qubits=35,platform_id=8afaef46-41d8-4e20-b36b-4098b55489a9)>]\n"
     ]
    },
    {
     "name": "stderr",
     "output_type": "stream",
     "text": [
      "/var/folders/wr/t90h6ncd4g7bd0x_l9vvzzg40000gn/T/ipykernel_56815/689040384.py:2: UserWarning: Backend sim:sampling:h100 was not created successfully\n",
      "  print(provider.backends(operational=True))\n",
      "/var/folders/wr/t90h6ncd4g7bd0x_l9vvzzg40000gn/T/ipykernel_56815/689040384.py:2: UserWarning: Backend sim:sampling:p100 was not created successfully\n",
      "  print(provider.backends(operational=True))\n",
      "/var/folders/wr/t90h6ncd4g7bd0x_l9vvzzg40000gn/T/ipykernel_56815/689040384.py:5: UserWarning: Backend sim:sampling:h100 was not created successfully\n",
      "  print(provider.backends(min_num_qubits=35))\n",
      "/var/folders/wr/t90h6ncd4g7bd0x_l9vvzzg40000gn/T/ipykernel_56815/689040384.py:5: UserWarning: Backend sim:sampling:p100 was not created successfully\n",
      "  print(provider.backends(min_num_qubits=35))\n"
     ]
    }
   ],
   "source": [
    "# List of the available Scaleway devices\n",
    "print(provider.backends(operational=True))\n",
    "\n",
    "# List all backends with a minimum number of qbits\n",
    "print(provider.backends(min_num_qubits=35))\n",
    "\n",
    "# Retrieve a backend by providing search criteria. The search must have a single match\n",
    "backend = provider.get_backend(\"aer_simulation_4l40s\")\n"
   ]
  },
  {
   "cell_type": "markdown",
   "metadata": {},
   "source": [
    "### Bell-state example\n",
    "\n",
    "Nous allons creer ici forme un (état de Bell)[https://en.wikipedia.org/wiki/Bell_state]. Un état de Bell est l'exemple le plus simple d'intrication. La porte `H` place `q_0` dans une superposition, puis la porte `X`perner d'intriquer les deux qubits."
   ]
  },
  {
   "cell_type": "code",
   "execution_count": 15,
   "metadata": {},
   "outputs": [
    {
     "data": {
      "text/html": [
       "<pre style=\"word-wrap: normal;white-space: pre;background: #fff0;line-height: 1.1;font-family: &quot;Courier New&quot;,Courier,monospace\">        ┌───┐      ░ ┌─┐   \n",
       "   q_0: ┤ H ├──■───░─┤M├───\n",
       "        └───┘┌─┴─┐ ░ └╥┘┌─┐\n",
       "   q_1: ─────┤ X ├─░──╫─┤M├\n",
       "             └───┘ ░  ║ └╥┘\n",
       "   c: 2/══════════════╬══╬═\n",
       "                      ║  ║ \n",
       "meas: 2/══════════════╩══╩═\n",
       "                      0  1 </pre>"
      ],
      "text/plain": [
       "        ┌───┐      ░ ┌─┐   \n",
       "   q_0: ┤ H ├──■───░─┤M├───\n",
       "        └───┘┌─┴─┐ ░ └╥┘┌─┐\n",
       "   q_1: ─────┤ X ├─░──╫─┤M├\n",
       "             └───┘ ░  ║ └╥┘\n",
       "   c: 2/══════════════╬══╬═\n",
       "                      ║  ║ \n",
       "meas: 2/══════════════╩══╩═\n",
       "                      0  1 "
      ]
     },
     "execution_count": 15,
     "metadata": {},
     "output_type": "execute_result"
    }
   ],
   "source": [
    "# quantum circuit to make a Bell state\n",
    "circuit = QuantumCircuit(2, 2, name='Bell state')\n",
    "circuit.h(0)\n",
    "circuit.cx(0, 1)\n",
    "circuit.measure_all()\n",
    "\n",
    "circuit.draw()\n"
   ]
  },
  {
   "cell_type": "markdown",
   "metadata": {},
   "source": [
    "### Run on an Scaleway Backend"
   ]
  },
  {
   "cell_type": "code",
   "execution_count": 16,
   "metadata": {},
   "outputs": [
    {
     "name": "stdout",
     "output_type": "stream",
     "text": [
      "{'id': '3c64b1d1-6a65-47f1-beb7-291abd128a81', 'name': 'qj-aer-dynamic-consulate', 'tags': [], 'session_id': '7e8f9be7-4c59-4428-befe-64a5b1bf5a02', 'created_at': '2024-05-02T09:55:13.652914Z', 'updated_at': '2024-05-02T09:55:13.652914Z', 'started_at': None, 'status': 'waiting', 'progress_message': '', 'job_duration': '0s', 'result_distribution': ''}\n",
      "{'id': '3c64b1d1-6a65-47f1-beb7-291abd128a81', 'name': 'qj-aer-dynamic-consulate', 'tags': [], 'session_id': '7e8f9be7-4c59-4428-befe-64a5b1bf5a02', 'created_at': '2024-05-02T09:55:13.652914Z', 'updated_at': '2024-05-02T09:55:16.073374Z', 'started_at': '2024-05-02T09:55:15Z', 'status': 'completed', 'progress_message': '', 'job_duration': '0s', 'result_distribution': '{\"backend_name\": \"aer_simulator\", \"backend_version\": \"0.14.0.1\", \"date\": \"2024-05-02T09:55:15.893300\", \"header\": null, \"qobj_id\": \"\", \"job_id\": \"a7c654fb-412f-4bd5-af6b-53b3c1cd08c4\", \"status\": \"COMPLETED\", \"success\": true, \"results\": [{\"shots\": 1000, \"success\": true, \"data\": {\"counts\": {\"0xc\": 494, \"0x0\": 506}}, \"meas_level\": 2, \"header\": {\"creg_sizes\": [[\"c\", 2], [\"meas\", 2]], \"global_phase\": 0.0, \"memory_slots\": 4, \"n_qubits\": 2, \"name\": \"circuit-168\", \"qreg_sizes\": [[\"q\", 2]], \"metadata\": {}}, \"status\": \"DONE\", \"seed_simulator\": 1721579297, \"metadata\": {\"time_taken\": 0.00176577, \"num_bind_params\": 1, \"parallel_state_update\": 32, \"parallel_shots\": 1, \"sample_measure_time\": 0.00040556, \"required_memory_mb\": 0, \"input_qubit_map\": [[1, 1], [0, 0]], \"max_gpu_memory_mb\": 182356, \"method\": \"stabilizer\", \"device\": \"GPU\", \"num_qubits\": 2, \"active_input_qubits\": [0, 1], \"num_clbits\": 4, \"remapped_qubits\": false, \"cuStateVec_enable\": false, \"runtime_parameter_bind\": false, \"max_memory_mb\": 386754, \"target_gpus\": [0, 1, 2, 3], \"noise\": \"ideal\", \"measure_sampling\": true, \"batched_shots_optimization\": false, \"fusion\": {\"enabled\": false}}, \"time_taken\": 0.00176577}], \"metadata\": {\"time_taken_parameter_binding\": 1.452e-05, \"time_taken_execute\": 0.00179583, \"omp_enabled\": true, \"max_gpu_memory_mb\": 182356, \"max_memory_mb\": 0, \"parallel_experiments\": 1}, \"time_taken\": 0.0024034976959228516}'}\n",
      "{'11 00': 494, '00 00': 506}\n"
     ]
    }
   ],
   "source": [
    "# The number of repetitions for each circuit, for sampling.\n",
    "shots = 1000\n",
    "\n",
    "# Create job to a new QPU's session (or on an existing one)\n",
    "job = backend.run(circuit, shots=shots)\n",
    "\n",
    "\n",
    "# Send your job\n",
    "result = job.result()\n",
    "\n",
    "\n",
    "counts = result.get_counts()\n",
    "print(counts)\n"
   ]
  }
 ],
 "metadata": {
  "kernelspec": {
   "display_name": "venv",
   "language": "python",
   "name": "python3"
  },
  "language_info": {
   "codemirror_mode": {
    "name": "ipython",
    "version": 3
   },
   "file_extension": ".py",
   "mimetype": "text/x-python",
   "name": "python",
   "nbconvert_exporter": "python",
   "pygments_lexer": "ipython3",
   "version": "3.11.6"
  }
 },
 "nbformat": 4,
 "nbformat_minor": 2
}
